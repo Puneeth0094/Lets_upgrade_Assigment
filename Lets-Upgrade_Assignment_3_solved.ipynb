{
 "cells": [
  {
   "cell_type": "code",
   "execution_count": 3,
   "metadata": {},
   "outputs": [
    {
     "data": {
      "text/plain": [
       "array([ 2,  5,  8, 11, 14, 17, 20, 23, 26, 29, 32, 35, 38, 41, 44, 47])"
      ]
     },
     "execution_count": 3,
     "metadata": {},
     "output_type": "execute_result"
    }
   ],
   "source": [
    "#Create a numpy array starting from 2 till 50 with a stepsize of 3.\n",
    "import numpy as np\n",
    "\n",
    "arr=np.arange(2,50,3)\n",
    "arr"
   ]
  },
  {
   "cell_type": "code",
   "execution_count": 1,
   "metadata": {},
   "outputs": [
    {
     "name": "stdout",
     "output_type": "stream",
     "text": [
      "enter the length5\n",
      "enter the five numbers\n",
      "2 \n",
      "4\n",
      "6\n",
      "5\n",
      "7\n",
      "[2, 4, 6, 5, 7]\n",
      "enter the length5\n",
      "enter the  five numbers\n",
      "8\n",
      "9\n",
      "3\n",
      "5\n",
      "6\n",
      "[8, 9, 3, 5, 6]\n"
     ]
    }
   ],
   "source": [
    "#Accept two lists of 5 elements each from the user.\n",
    "#Convert them to numpy arrays. Concatenate these arrays and print it. Also sort these arrays and print it.\n",
    "\n",
    "#Accept two lists of 5 elements each from the user.\n",
    "list1=[]\n",
    "numbers1=int(input(\"enter the length\"))\n",
    "print(\"enter the five numbers\")\n",
    "\n",
    "for i in range(numbers1):\n",
    "    data=int(input())\n",
    "    list1.append(data)\n",
    "print(list1)\n",
    "\n",
    "list2=[]\n",
    "numbers2=int(input(\"enter the length\"))\n",
    "print(\"enter the  five numbers\")\n",
    "\n",
    "for i in range(numbers2):\n",
    "    data=int(input())\n",
    "    list2.append(data)\n",
    "print(list2)"
   ]
  },
  {
   "cell_type": "code",
   "execution_count": 6,
   "metadata": {},
   "outputs": [
    {
     "name": "stdout",
     "output_type": "stream",
     "text": [
      "[2 4 6 5 7]\n",
      "[8 9 3 5 6]\n"
     ]
    }
   ],
   "source": [
    "# Convert them to numpy arrays.\n",
    "n1=np.array(list1)\n",
    "n2=np.array(list2)\n",
    "print(n1)\n",
    "print(n2)\n"
   ]
  },
  {
   "cell_type": "code",
   "execution_count": 8,
   "metadata": {},
   "outputs": [
    {
     "data": {
      "text/plain": [
       "array([2, 4, 6, 5, 7, 8, 9, 3, 5, 6])"
      ]
     },
     "execution_count": 8,
     "metadata": {},
     "output_type": "execute_result"
    }
   ],
   "source": [
    "arr=np.concatenate((n1,n2))  \n",
    "arr"
   ]
  },
  {
   "cell_type": "code",
   "execution_count": 9,
   "metadata": {},
   "outputs": [
    {
     "data": {
      "text/plain": [
       "array([2, 3, 4, 5, 5, 6, 6, 7, 8, 9])"
      ]
     },
     "execution_count": 9,
     "metadata": {},
     "output_type": "execute_result"
    }
   ],
   "source": [
    "arr.sort()\n",
    "arr"
   ]
  },
  {
   "cell_type": "code",
   "execution_count": 29,
   "metadata": {},
   "outputs": [
    {
     "name": "stdout",
     "output_type": "stream",
     "text": [
      "The dimension of 1D array : (5,)\n",
      "\n",
      " [[ 1  3  4  5]\n",
      " [ 4  5  6 77]\n",
      " [40 50 88 99]]\n",
      "\n",
      "The dimension of 2D array : (3, 4)\n"
     ]
    },
    {
     "data": {
      "text/plain": [
       "1"
      ]
     },
     "execution_count": 29,
     "metadata": {},
     "output_type": "execute_result"
    }
   ],
   "source": [
    "#Write a code snippet to find the dimensions of a ndarray and its size.\n",
    "#dimensions of a ndarray\n",
    "arr=np.array([2,3,4,5,6])\n",
    "print(\"The dimension of 1D array :\",arr.shape)\n",
    "\n",
    "arr2D = np.array([[1,3,4,5], [4,5,6,77], [40,50,88,99]])\n",
    "\n",
    "print(\"\\n\",arr2D)\n",
    "print(\"\\nThe dimension of 2D array :\",arr2D.shape)\n"
   ]
  },
  {
   "cell_type": "code",
   "execution_count": 11,
   "metadata": {},
   "outputs": [
    {
     "name": "stdout",
     "output_type": "stream",
     "text": [
      "Total Number of elements in 2D Numpy array :  12\n"
     ]
    }
   ],
   "source": [
    "#size\n",
    "arr2D = np.array([[1,3,4,5], [4,5,6,77], [40,50,88,99]])\n",
    "print('Total Number of elements in 2D Numpy array : ', np.size(arr2D))"
   ]
  },
  {
   "cell_type": "code",
   "execution_count": 36,
   "metadata": {},
   "outputs": [
    {
     "data": {
      "text/plain": [
       "(2,)"
      ]
     },
     "execution_count": 36,
     "metadata": {},
     "output_type": "execute_result"
    }
   ],
   "source": [
    "#How to convert a 1D array into a 2D array? Demonstrate with the help of a code snippet\n",
    "#Hint: np.newaxis, np.expand_dims\n",
    "a=np.array([5,6])\n",
    "a.shape\n",
    "\n"
   ]
  },
  {
   "cell_type": "code",
   "execution_count": 37,
   "metadata": {},
   "outputs": [
    {
     "name": "stdout",
     "output_type": "stream",
     "text": [
      "[[5 6]]\n",
      "(1, 2)\n"
     ]
    }
   ],
   "source": [
    "b=np.expand_dims(a, axis=0)\n",
    "print(b)\n",
    "print(b.shape)"
   ]
  },
  {
   "cell_type": "code",
   "execution_count": 38,
   "metadata": {},
   "outputs": [
    {
     "name": "stdout",
     "output_type": "stream",
     "text": [
      "[[5]\n",
      " [6]]\n",
      "(2, 1)\n"
     ]
    }
   ],
   "source": [
    "b=np.expand_dims(a, axis=1)\n",
    "print(b)\n",
    "print(b.shape)"
   ]
  },
  {
   "cell_type": "code",
   "execution_count": 40,
   "metadata": {},
   "outputs": [
    {
     "data": {
      "text/plain": [
       "array([[10, 20, 30],\n",
       "       [40, 50, 60]])"
      ]
     },
     "execution_count": 40,
     "metadata": {},
     "output_type": "execute_result"
    }
   ],
   "source": [
    "#Consider two square numpy arrays. Stack them vertically and horizontally.\n",
    "#Hint: Use vstack(), hstack()\n",
    "\n",
    "n1=np.array([10,20,30])\n",
    "n2=np.array([40,50,60])\n",
    "\n",
    "np.vstack((n1,n2))"
   ]
  },
  {
   "cell_type": "code",
   "execution_count": 41,
   "metadata": {},
   "outputs": [
    {
     "data": {
      "text/plain": [
       "array([10, 20, 30, 40, 50, 60])"
      ]
     },
     "execution_count": 41,
     "metadata": {},
     "output_type": "execute_result"
    }
   ],
   "source": [
    "n1=np.array([10,20,30])\n",
    "n2=np.array([40,50,60])\n",
    "\n",
    "np.hstack((n1,n2))"
   ]
  },
  {
   "cell_type": "code",
   "execution_count": 45,
   "metadata": {},
   "outputs": [
    {
     "data": {
      "text/plain": [
       "array([[1, 0, 0],\n",
       "       [2, 3, 4]])"
      ]
     },
     "execution_count": 45,
     "metadata": {},
     "output_type": "execute_result"
    }
   ],
   "source": [
    "#How to get unique items and counts of unique items?\n",
    "a = np.array([[1, 0, 0], [1, 0, 0], [2, 3, 4],[2,3,4]])\n",
    "np.unique(a, axis=0)\n"
   ]
  },
  {
   "cell_type": "code",
   "execution_count": 52,
   "metadata": {},
   "outputs": [
    {
     "data": {
      "text/plain": [
       "array([0, 1, 2, 3, 4])"
      ]
     },
     "execution_count": 52,
     "metadata": {},
     "output_type": "execute_result"
    }
   ],
   "source": [
    "np.unique (a, return_counts=False)"
   ]
  },
  {
   "cell_type": "code",
   "execution_count": null,
   "metadata": {},
   "outputs": [],
   "source": []
  },
  {
   "cell_type": "code",
   "execution_count": null,
   "metadata": {},
   "outputs": [],
   "source": []
  }
 ],
 "metadata": {
  "kernelspec": {
   "display_name": "Python 3",
   "language": "python",
   "name": "python3"
  },
  "language_info": {
   "codemirror_mode": {
    "name": "ipython",
    "version": 3
   },
   "file_extension": ".py",
   "mimetype": "text/x-python",
   "name": "python",
   "nbconvert_exporter": "python",
   "pygments_lexer": "ipython3",
   "version": "3.7.4"
  }
 },
 "nbformat": 4,
 "nbformat_minor": 2
}
