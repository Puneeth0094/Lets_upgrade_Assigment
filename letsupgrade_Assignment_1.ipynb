{
 "cells": [
  {
   "cell_type": "code",
   "execution_count": null,
   "metadata": {},
   "outputs": [],
   "source": [
    "#1.Given the following jumbled word, OBANWRI guess the correct English word.\n",
    "\n",
    "#B. RAINBOW\n",
    "\n"
   ]
  },
  {
   "cell_type": "code",
   "execution_count": 1,
   "metadata": {},
   "outputs": [
    {
     "name": "stdout",
     "output_type": "stream",
     "text": [
      "\"LETS UPGRADE\"\n"
     ]
    }
   ],
   "source": [
    "#Write a program which prints “LETS UPGRADE”. (Please note that you have to\n",
    "#print in ALL CAPS as given\n",
    "\n",
    "print('\"LETS UPGRADE\"')\n"
   ]
  },
  {
   "cell_type": "code",
   "execution_count": 9,
   "metadata": {},
   "outputs": [
    {
     "name": "stdout",
     "output_type": "stream",
     "text": [
      "cp:100\n",
      "sp:200\n",
      "profit\n"
     ]
    }
   ],
   "source": [
    "#Write a program that takes cost price and selling price as input and displays whether the transaction is a\n",
    "#Profit or a Loss or Neither.\n",
    "\n",
    "cp=float(input(\"cp:\"))\n",
    "sp=float(input(\"sp:\"))\n",
    "\n",
    "profit =sp-cp\n",
    "loss=cp-sp\n",
    "\n",
    "if cp<sp:\n",
    "    print(\"profit\")\n",
    "elif cp>sp:\n",
    "    print(\"loss\")\n",
    "else:\n",
    "    print(\"neither\")\n",
    "    "
   ]
  },
  {
   "cell_type": "code",
   "execution_count": 17,
   "metadata": {},
   "outputs": [
    {
     "name": "stdout",
     "output_type": "stream",
     "text": [
      "Euro:50\n",
      "4000\n"
     ]
    }
   ],
   "source": [
    "#Write a program that takes an amount in Euros as input. You need to find its equivalent in\n",
    "#Rupees and display it. Assume 1 Euro equals Rs. 80.\n",
    "\n",
    "Euros=int(input(\"Euro:\"))\n",
    "\n",
    "Rupees= Euros * 80\n",
    "\n",
    "print(Rupees)\n"
   ]
  },
  {
   "cell_type": "code",
   "execution_count": null,
   "metadata": {},
   "outputs": [],
   "source": []
  }
 ],
 "metadata": {
  "kernelspec": {
   "display_name": "Python 3",
   "language": "python",
   "name": "python3"
  },
  "language_info": {
   "codemirror_mode": {
    "name": "ipython",
    "version": 3
   },
   "file_extension": ".py",
   "mimetype": "text/x-python",
   "name": "python",
   "nbconvert_exporter": "python",
   "pygments_lexer": "ipython3",
   "version": "3.7.4"
  }
 },
 "nbformat": 4,
 "nbformat_minor": 2
}
